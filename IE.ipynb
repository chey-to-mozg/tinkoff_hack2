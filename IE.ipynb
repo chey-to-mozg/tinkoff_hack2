{
  "nbformat": 4,
  "nbformat_minor": 0,
  "metadata": {
    "kernelspec": {
      "display_name": "Python 3",
      "language": "python",
      "name": "python3"
    },
    "language_info": {
      "codemirror_mode": {
        "name": "ipython",
        "version": 2
      },
      "file_extension": ".py",
      "mimetype": "text/x-python",
      "name": "python",
      "nbconvert_exporter": "python",
      "pygments_lexer": "ipython2",
      "version": "2.7.6"
    },
    "colab": {
      "name": "IE.ipynb",
      "provenance": [],
      "collapsed_sections": [],
      "include_colab_link": true
    }
  },
  "cells": [
    {
      "cell_type": "markdown",
      "metadata": {
        "id": "view-in-github",
        "colab_type": "text"
      },
      "source": [
        "<a href=\"https://colab.research.google.com/github/chey-to-mozg/tinkoff_hack2/blob/master/IE.ipynb\" target=\"_parent\"><img src=\"https://colab.research.google.com/assets/colab-badge.svg\" alt=\"Open In Colab\"/></a>"
      ]
    },
    {
      "cell_type": "markdown",
      "metadata": {
        "id": "pNJQlUaVmMla",
        "colab_type": "text"
      },
      "source": [
        "### Task description\n",
        "\n",
        "\n",
        "\n",
        "In this task we try to determine user satisfaction level of the seller, based on that features:\n",
        "\n",
        "* user_spends\n",
        "* user_previous_satisfaction_of_customer(user_rating)\n",
        "* product_price\n",
        "* product_quality\n",
        "* ie_rating\n",
        "* ie_vote_count\n"
      ]
    },
    {
      "cell_type": "code",
      "metadata": {
        "id": "-x4ywKruGQPC",
        "colab_type": "code",
        "colab": {
          "base_uri": "https://localhost:8080/",
          "height": 33
        },
        "outputId": "503c3ec8-6a2a-4eaf-9e52-598159cc8626"
      },
      "source": [
        "from google.colab import drive\n",
        "drive.mount('/content/drive')"
      ],
      "execution_count": null,
      "outputs": [
        {
          "output_type": "stream",
          "text": [
            "Mounted at /content/drive\n"
          ],
          "name": "stdout"
        }
      ]
    },
    {
      "cell_type": "code",
      "metadata": {
        "id": "8FRgV8ASL4Zu",
        "colab_type": "code",
        "colab": {}
      },
      "source": [
        "import pandas as pd\n",
        "import numpy as np\n",
        "from sklearn.linear_model import LogisticRegression\n",
        "from sklearn.model_selection import train_test_split\n",
        "from sklearn.pipeline import make_pipeline\n",
        "from sklearn.preprocessing import StandardScaler\n",
        "from sklearn.metrics import accuracy_score\n",
        "from sklearn.metrics import mean_absolute_error"
      ],
      "execution_count": null,
      "outputs": []
    },
    {
      "cell_type": "markdown",
      "metadata": {
        "id": "hmRf4jlwuvLU",
        "colab_type": "text"
      },
      "source": [
        "### Dataset description\n",
        "We propose synthetic dataset which consist from features defined in Description section and label - target satisfaction level of User by IE. Data base consist from 3 tables:\n",
        "\n",
        "* User(user_id, user_spends)\n",
        "* IE(ie_id, product_price,product_quality,ie_rating,ie_vote_count)\n",
        "* Satisfaction(user_id, ie_id, user_rating)\n",
        "\n",
        "Labels generated under the certain law:\n",
        "$$prob_{satisfaction} = \\sigma(w_1 * \\frac{price}{spends} + w_2 * rating_{prev} + w_3 * rating_{total} + w_4 * quality + w_5 * count_{vote} + noise)$$\n"
      ]
    },
    {
      "cell_type": "code",
      "metadata": {
        "id": "SGFXO2um82C7",
        "colab_type": "code",
        "colab": {}
      },
      "source": [
        "def Generate_Table_User(num_users):\n",
        "    data = {'user_id' : [i for i in range(num_users)], 'user_spends' : np.random.uniform(low=0.01, high=1.0, size=num_users)}\n",
        "    df = pd.DataFrame(data)\n",
        "    return df"
      ],
      "execution_count": null,
      "outputs": []
    },
    {
      "cell_type": "code",
      "metadata": {
        "id": "qlIRZgQk9IWP",
        "colab_type": "code",
        "colab": {}
      },
      "source": [
        "def Generate_Table_IE(num_ie):\n",
        "    data = {'ie_id' : [i for i in range(num_ie)], 'product_price' : np.random.uniform(low=0.01, high=0.25, size=num_ie), \\\n",
        "            'product_quality' : np.random.randint(1, 6, num_ie), 'ie_rating' : np.random.randint(1, 6, num_ie), \\\n",
        "            'ie_vote_count' : np.random.randint(1, 100, num_ie)}\n",
        "    df = pd.DataFrame(data)\n",
        "    return df"
      ],
      "execution_count": null,
      "outputs": []
    },
    {
      "cell_type": "code",
      "metadata": {
        "id": "vaY43rSU9hLi",
        "colab_type": "code",
        "colab": {}
      },
      "source": [
        "def Get_Table_Satisfaction(num_users, num_ie, num_sat):\n",
        "    data = {'user_id_sat' : np.random.randint(0, num_users, num_sat), 'ie_id_sat' : np.random.randint(0, num_ie, num_sat), 'user_rating' : np.random.randint(1, 6, num_sat)}\n",
        "    df = pd.DataFrame(data)\n",
        "    return df"
      ],
      "execution_count": null,
      "outputs": []
    },
    {
      "cell_type": "code",
      "metadata": {
        "id": "iSo2lF4I95z4",
        "colab_type": "code",
        "colab": {}
      },
      "source": [
        "def Get_Tables(num_users, num_ie, num_sat):\n",
        "    t_user = Generate_Table_User(num_users)\n",
        "    t_ie = Generate_Table_IE(num_ie)\n",
        "    t_sat = Get_Table_Satisfaction(num_users, num_ie, num_sat)\n",
        "    t_user[\"key\"], t_ie[\"key\"], t_sat[\"key\"] = 1, 1, 1\n",
        "    merged_table = pd.merge(t_user, t_ie, on='key')\n",
        "    merged_table = pd.merge(merged_table, t_sat, on='key')\n",
        "    merged_table = merged_table[(merged_table.user_id == merged_table.user_id_sat) & (merged_table.ie_id == merged_table.ie_id_sat)]\n",
        "    merged_table.drop(columns=['key', 'user_id_sat', 'ie_id_sat'], inplace=True)\n",
        "    t_user.drop(columns=['key',], inplace=True)\n",
        "    t_ie.drop(columns=['key',], inplace=True)\n",
        "    t_sat.drop(columns=['key',], inplace=True)\n",
        "\n",
        "    return t_user, t_ie, t_sat, merged_table"
      ],
      "execution_count": null,
      "outputs": []
    },
    {
      "cell_type": "code",
      "metadata": {
        "id": "4-tM3U0kFU07",
        "colab_type": "code",
        "colab": {}
      },
      "source": [
        "# def Generate_X(num_samples):\n",
        "#     num_ie, num_users = 100, 100\n",
        "#     data = {'user_id' : np.random.randint(1, num_users, num_samples), 'user_spends' : np.random.uniform(low=0.01, high=1.0, size=num_samples), 'user_rating' : np.random.randint(1, 6, num_samples), 'product_price' : np.random.uniform(low=0.01, high=0.25, size=num_samples), \\\n",
        "#             'product_quality' : np.random.randint(1, 6, num_samples), 'ie_rating' : np.random.randint(1, 6, num_samples), 'ie_vote_count' : np.random.randint(1, 100, num_samples), 'ie_id':np.random.randint(1, num_ie, num_samples)}\n",
        "#     df = pd.DataFrame(data)\n",
        "#     return df"
      ],
      "execution_count": null,
      "outputs": []
    },
    {
      "cell_type": "code",
      "metadata": {
        "id": "7Sk2heirAfHF",
        "colab_type": "code",
        "colab": {}
      },
      "source": [
        "def True_Dependency(features):\n",
        "    w1 = 1 / 5.0\n",
        "    w2 = w3 = w4 = 1.0 / 30.0\n",
        "    w5  = 1.0 / 200\n",
        "    level_noise = 0.05\n",
        "    def noise(level):\n",
        "        return np.random.normal(scale=0.1, size = 1)\n",
        "    def sigmoid(x):\n",
        "        return 1 /(1 + np.exp(-x))\n",
        "    user_spends, user_rating, product_price, product_quality, ie_rating, ie_vote_count = features\n",
        "    user_satisfaction = np.round(4 * sigmoid((product_price / user_spends) * w1 + (user_rating) * w2 + (ie_rating) * w3 + (product_quality) * w4 + (ie_vote_count) * w5 + noise(level_noise))) + 1\n",
        "\n",
        "    return user_satisfaction"
      ],
      "execution_count": null,
      "outputs": []
    },
    {
      "cell_type": "code",
      "metadata": {
        "id": "-UVPtLfV6H2h",
        "colab_type": "code",
        "colab": {}
      },
      "source": [
        "def Generate_Data():\n",
        "    # num_samples = 100\n",
        "    # X = Generate_X(num_samples)\n",
        "    num_users = num_ie = 200\n",
        "    num_sat = 70\n",
        "    tables = Get_Tables(num_users, num_ie, num_sat)\n",
        "    X, Y = tables[3], np.zeros(num_sat)\n",
        "    X_trunc = X.drop(columns=['user_id', 'ie_id'])\n",
        "    for i in range(num_sat):\n",
        "        features = np.array(X_trunc.iloc[i])\n",
        "        Y[i] = True_Dependency(features)\n",
        "\n",
        "    return X, Y, tables"
      ],
      "execution_count": null,
      "outputs": []
    },
    {
      "cell_type": "markdown",
      "metadata": {
        "id": "fvorMQDoum6V",
        "colab_type": "text"
      },
      "source": [
        "### Creation of predictive model"
      ]
    },
    {
      "cell_type": "code",
      "metadata": {
        "id": "mFyT9gAaAfLy",
        "colab_type": "code",
        "colab": {
          "base_uri": "https://localhost:8080/",
          "height": 218
        },
        "outputId": "8c2f9633-ee02-4b97-caec-7c7656f3d44e"
      },
      "source": [
        "X, Y, tables = Generate_Data()\n",
        "X_train, X_test, y_train, y_test = train_test_split(X, Y, test_size=0.33)\n",
        "clf  = make_pipeline(StandardScaler(), LogisticRegression(C= 0.01))\n",
        "clf.fit(X_train.drop(columns=['user_id', 'ie_id']), y_train)"
      ],
      "execution_count": null,
      "outputs": [
        {
          "output_type": "execute_result",
          "data": {
            "text/plain": [
              "Pipeline(memory=None,\n",
              "         steps=[('standardscaler',\n",
              "                 StandardScaler(copy=True, with_mean=True, with_std=True)),\n",
              "                ('logisticregression',\n",
              "                 LogisticRegression(C=0.01, class_weight=None, dual=False,\n",
              "                                    fit_intercept=True, intercept_scaling=1,\n",
              "                                    l1_ratio=None, max_iter=100,\n",
              "                                    multi_class='auto', n_jobs=None,\n",
              "                                    penalty='l2', random_state=None,\n",
              "                                    solver='lbfgs', tol=0.0001, verbose=0,\n",
              "                                    warm_start=False))],\n",
              "         verbose=False)"
            ]
          },
          "metadata": {
            "tags": []
          },
          "execution_count": 68
        }
      ]
    },
    {
      "cell_type": "code",
      "metadata": {
        "id": "aw47zLDJLzia",
        "colab_type": "code",
        "colab": {
          "base_uri": "https://localhost:8080/",
          "height": 33
        },
        "outputId": "dca8c332-8a25-41e7-a140-536b97ddd771"
      },
      "source": [
        "y_pred = clf.predict(X_test.drop(columns=['user_id', 'ie_id']))\n",
        "print(\"Accuracy: {}%, Mean Error: {}%\".format(round(100 * accuracy_score(y_test, y_pred),2), round(100 * mean_absolute_error(y_test, y_pred),2)))"
      ],
      "execution_count": null,
      "outputs": [
        {
          "output_type": "stream",
          "text": [
            "Accuracy: 91.67%, Mean Error: 8.33%\n"
          ],
          "name": "stdout"
        }
      ]
    },
    {
      "cell_type": "markdown",
      "metadata": {
        "id": "rgl3fmgwvwym",
        "colab_type": "text"
      },
      "source": [
        "### Recomendation System"
      ]
    },
    {
      "cell_type": "code",
      "metadata": {
        "id": "5aR1kgteXy7E",
        "colab_type": "code",
        "colab": {}
      },
      "source": [
        "# Predictions on Logistic Regression model\n",
        "\n",
        "def Predict_By_Model(table, user_id, model):\n",
        "    search_space = table[table.user_id == user_id]\n",
        "    search_space[\"scores\"] = model.predict(search_space.drop(columns=['user_id','ie_id']))\n",
        "    search_space.sort_values('scores', inplace=True, ascending=False)\n",
        "\n",
        "    return search_space.ie_id, search_space.scores\n",
        "    "
      ],
      "execution_count": null,
      "outputs": []
    },
    {
      "cell_type": "code",
      "metadata": {
        "id": "Ydi_ZvQky07L",
        "colab_type": "code",
        "colab": {}
      },
      "source": [
        "# Calculation based on the IMDB formula\n",
        "# https://help.imdb.com/article/imdb/track-movies-tv/ratings-faq/G67Y87TFYYP6TWAV#\n",
        "\n",
        "def IMDB_Reccomender(df):\n",
        "    C = df['ie_rating'].mean()\n",
        "    m = df['ie_vote_count'].quantile(0.90)\n",
        "    q_ie = df.copy(deep=True).loc[df['ie_vote_count'] >= m]\n",
        "\n",
        "    def weighted_rating(x, m=m, C=C):\n",
        "        v = x['ie_vote_count']\n",
        "        R = x['ie_rating']\n",
        "    \n",
        "        return (v/(v+m) * R) + (m/(m+v) * C)\n",
        "\n",
        "    q_ie['score'] = q_ie.apply(weighted_rating, axis=1)\n",
        "    q_ie.sort_values('score', inplace=True, ascending=False)\n",
        "\n",
        "    return q_ie.ie_id, q_ie.score\n"
      ],
      "execution_count": null,
      "outputs": []
    },
    {
      "cell_type": "code",
      "metadata": {
        "id": "jXT6mQQI0aep",
        "colab_type": "code",
        "colab": {}
      },
      "source": [
        "# First raws of recomendation tables are generated with Logistic Regression model.\n",
        "# Rest rows are computed on IMDB formula\n",
        "\n",
        "def Recomendation_System(merged_table, user_id, model, t_ie):\n",
        "    best_id, best_score = Predict_By_Model(merged_table, user_id, model)\n",
        "    rest_table = t_ie.copy(deep=True)\n",
        "    rest_table.index = rest_table.ie_id\n",
        "    best_id_list = list(best_id)\n",
        "    for index, row in table.iterrows():\n",
        "        if row.ie_id in best_id_list:\n",
        "            rest_table.drop(row.ie_id)\n",
        "    imdb_id, imdb_score = IMDB_Reccomender(rest_table)\n",
        "\n",
        "    out_table = {'recomended_id': best_id_list + list(imdb_id), 'predicted_score' : list(best_score) + list(imdb_score)}\n",
        "    out_table = pd.DataFrame(out_table)\n",
        "    out_table.predicted_score = out_table.predicted_score.round(decimals=2)\n",
        "    return out_table\n"
      ],
      "execution_count": null,
      "outputs": []
    },
    {
      "cell_type": "code",
      "metadata": {
        "id": "Xy4n-_mV3-rw",
        "colab_type": "code",
        "colab": {
          "base_uri": "https://localhost:8080/",
          "height": 201
        },
        "outputId": "53bde295-6f4e-49fa-8f2a-d18a30fdbdc2"
      },
      "source": [
        "t_ie = tables[1]\n",
        "recomendation = Recomendation_System(X_test, X_test.iloc[0].user_id, clf, t_ie)"
      ],
      "execution_count": null,
      "outputs": [
        {
          "output_type": "stream",
          "text": [
            "/usr/local/lib/python3.6/dist-packages/ipykernel_launcher.py:3: SettingWithCopyWarning: \n",
            "A value is trying to be set on a copy of a slice from a DataFrame.\n",
            "Try using .loc[row_indexer,col_indexer] = value instead\n",
            "\n",
            "See the caveats in the documentation: https://pandas.pydata.org/pandas-docs/stable/user_guide/indexing.html#returning-a-view-versus-a-copy\n",
            "  This is separate from the ipykernel package so we can avoid doing imports until\n",
            "/usr/local/lib/python3.6/dist-packages/ipykernel_launcher.py:4: SettingWithCopyWarning: \n",
            "A value is trying to be set on a copy of a slice from a DataFrame\n",
            "\n",
            "See the caveats in the documentation: https://pandas.pydata.org/pandas-docs/stable/user_guide/indexing.html#returning-a-view-versus-a-copy\n",
            "  after removing the cwd from sys.path.\n"
          ],
          "name": "stderr"
        }
      ]
    },
    {
      "cell_type": "code",
      "metadata": {
        "id": "QZtnsN6_R5vR",
        "colab_type": "code",
        "colab": {
          "base_uri": "https://localhost:8080/",
          "height": 709
        },
        "outputId": "ba4f90af-b0e9-440b-f3b8-376708797b3a"
      },
      "source": [
        "recomendation"
      ],
      "execution_count": null,
      "outputs": [
        {
          "output_type": "execute_result",
          "data": {
            "text/html": [
              "<div>\n",
              "<style scoped>\n",
              "    .dataframe tbody tr th:only-of-type {\n",
              "        vertical-align: middle;\n",
              "    }\n",
              "\n",
              "    .dataframe tbody tr th {\n",
              "        vertical-align: top;\n",
              "    }\n",
              "\n",
              "    .dataframe thead th {\n",
              "        text-align: right;\n",
              "    }\n",
              "</style>\n",
              "<table border=\"1\" class=\"dataframe\">\n",
              "  <thead>\n",
              "    <tr style=\"text-align: right;\">\n",
              "      <th></th>\n",
              "      <th>recomended_id</th>\n",
              "      <th>predicted_score</th>\n",
              "    </tr>\n",
              "  </thead>\n",
              "  <tbody>\n",
              "    <tr>\n",
              "      <th>0</th>\n",
              "      <td>77</td>\n",
              "      <td>5.00</td>\n",
              "    </tr>\n",
              "    <tr>\n",
              "      <th>1</th>\n",
              "      <td>127</td>\n",
              "      <td>5.00</td>\n",
              "    </tr>\n",
              "    <tr>\n",
              "      <th>2</th>\n",
              "      <td>66</td>\n",
              "      <td>4.08</td>\n",
              "    </tr>\n",
              "    <tr>\n",
              "      <th>3</th>\n",
              "      <td>123</td>\n",
              "      <td>4.08</td>\n",
              "    </tr>\n",
              "    <tr>\n",
              "      <th>4</th>\n",
              "      <td>163</td>\n",
              "      <td>4.07</td>\n",
              "    </tr>\n",
              "    <tr>\n",
              "      <th>5</th>\n",
              "      <td>95</td>\n",
              "      <td>4.06</td>\n",
              "    </tr>\n",
              "    <tr>\n",
              "      <th>6</th>\n",
              "      <td>150</td>\n",
              "      <td>4.06</td>\n",
              "    </tr>\n",
              "    <tr>\n",
              "      <th>7</th>\n",
              "      <td>100</td>\n",
              "      <td>3.57</td>\n",
              "    </tr>\n",
              "    <tr>\n",
              "      <th>8</th>\n",
              "      <td>70</td>\n",
              "      <td>3.56</td>\n",
              "    </tr>\n",
              "    <tr>\n",
              "      <th>9</th>\n",
              "      <td>58</td>\n",
              "      <td>3.56</td>\n",
              "    </tr>\n",
              "    <tr>\n",
              "      <th>10</th>\n",
              "      <td>91</td>\n",
              "      <td>3.56</td>\n",
              "    </tr>\n",
              "    <tr>\n",
              "      <th>11</th>\n",
              "      <td>15</td>\n",
              "      <td>3.56</td>\n",
              "    </tr>\n",
              "    <tr>\n",
              "      <th>12</th>\n",
              "      <td>118</td>\n",
              "      <td>3.05</td>\n",
              "    </tr>\n",
              "    <tr>\n",
              "      <th>13</th>\n",
              "      <td>79</td>\n",
              "      <td>3.05</td>\n",
              "    </tr>\n",
              "    <tr>\n",
              "      <th>14</th>\n",
              "      <td>119</td>\n",
              "      <td>3.05</td>\n",
              "    </tr>\n",
              "    <tr>\n",
              "      <th>15</th>\n",
              "      <td>106</td>\n",
              "      <td>2.55</td>\n",
              "    </tr>\n",
              "    <tr>\n",
              "      <th>16</th>\n",
              "      <td>18</td>\n",
              "      <td>2.55</td>\n",
              "    </tr>\n",
              "    <tr>\n",
              "      <th>17</th>\n",
              "      <td>121</td>\n",
              "      <td>2.55</td>\n",
              "    </tr>\n",
              "    <tr>\n",
              "      <th>18</th>\n",
              "      <td>63</td>\n",
              "      <td>2.54</td>\n",
              "    </tr>\n",
              "    <tr>\n",
              "      <th>19</th>\n",
              "      <td>190</td>\n",
              "      <td>2.54</td>\n",
              "    </tr>\n",
              "    <tr>\n",
              "      <th>20</th>\n",
              "      <td>135</td>\n",
              "      <td>2.05</td>\n",
              "    </tr>\n",
              "    <tr>\n",
              "      <th>21</th>\n",
              "      <td>125</td>\n",
              "      <td>2.04</td>\n",
              "    </tr>\n",
              "    <tr>\n",
              "      <th>22</th>\n",
              "      <td>154</td>\n",
              "      <td>2.04</td>\n",
              "    </tr>\n",
              "  </tbody>\n",
              "</table>\n",
              "</div>"
            ],
            "text/plain": [
              "    recomended_id  predicted_score\n",
              "0              77             5.00\n",
              "1             127             5.00\n",
              "2              66             4.08\n",
              "3             123             4.08\n",
              "4             163             4.07\n",
              "5              95             4.06\n",
              "6             150             4.06\n",
              "7             100             3.57\n",
              "8              70             3.56\n",
              "9              58             3.56\n",
              "10             91             3.56\n",
              "11             15             3.56\n",
              "12            118             3.05\n",
              "13             79             3.05\n",
              "14            119             3.05\n",
              "15            106             2.55\n",
              "16             18             2.55\n",
              "17            121             2.55\n",
              "18             63             2.54\n",
              "19            190             2.54\n",
              "20            135             2.05\n",
              "21            125             2.04\n",
              "22            154             2.04"
            ]
          },
          "metadata": {
            "tags": []
          },
          "execution_count": 74
        }
      ]
    },
    {
      "cell_type": "markdown",
      "metadata": {
        "id": "tjGSsOf0wZWT",
        "colab_type": "text"
      },
      "source": [
        ""
      ]
    },
    {
      "cell_type": "code",
      "metadata": {
        "id": "O8R3NuIV3-yA",
        "colab_type": "code",
        "colab": {}
      },
      "source": [
        "recomendation.to_csv(\"/content/drive/My Drive/datasets/2009-skoltech-hack/result_recomendation.csv\")"
      ],
      "execution_count": null,
      "outputs": []
    }
  ]
}